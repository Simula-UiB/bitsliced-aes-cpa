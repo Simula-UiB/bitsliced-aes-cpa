{
 "cells": [
  {
   "cell_type": "markdown",
   "metadata": {},
   "source": [
    "This file is based on ChipWhisperer-Jupyter Examples\n",
    "Copyright (C) 2012-2017 NewAE Technology Inc.\n",
    "Copyright (C) 2022 Stian Husum\n",
    "This program is free software: you can redistribute it and/or modify\n",
    "it under the terms of the GNU General Public License as published by\n",
    "the Free Software Foundation, either version 3 of the License, or\n",
    "(at your option) any later version.\n",
    "This program is distributed in the hope that it will be useful,\n",
    "but WITHOUT ANY WARRANTY; without even the implied warranty of\n",
    "MERCHANTABILITY or FITNESS FOR A PARTICULAR PURPOSE.  See the\n",
    "GNU General Public License for more details.\n",
    "You should have received a copy of the GNU General Public License\n",
    "along with this program.  If not, see <http://www.gnu.org/licenses/>."
   ]
  },
  {
   "cell_type": "markdown",
   "metadata": {},
   "source": [
    "# Setup"
   ]
  },
  {
   "cell_type": "code",
   "execution_count": 9,
   "metadata": {},
   "outputs": [],
   "source": [
    "SCOPETYPE = 'OPENADC'\n",
    "PLATFORM = 'CWLITEARM'\n",
    "CRYPTO_TARGET = 'NONE'\n",
    "FIRMWARE_PATH = 'target/simpleserial-aes-fix'"
   ]
  },
  {
   "cell_type": "code",
   "execution_count": 10,
   "metadata": {
    "scrolled": true
   },
   "outputs": [
    {
     "name": "stdout",
     "output_type": "stream",
     "text": [
      "SS_VER set to SS_VER_1_1\n",
      "rm -f -- simpleserial-aes-fix-CWLITEARM.hex\n",
      "rm -f -- simpleserial-aes-fix-CWLITEARM.eep\n",
      "rm -f -- simpleserial-aes-fix-CWLITEARM.cof\n",
      "rm -f -- simpleserial-aes-fix-CWLITEARM.elf\n",
      "rm -f -- simpleserial-aes-fix-CWLITEARM.map\n",
      "rm -f -- simpleserial-aes-fix-CWLITEARM.sym\n",
      "rm -f -- simpleserial-aes-fix-CWLITEARM.lss\n",
      "rm -f -- objdir-CWLITEARM/*.o\n",
      "rm -f -- objdir-CWLITEARM/*.lst\n",
      "rm -f -- simpleserial-aes-fix.s simpleserial.s stm32f3_hal.s stm32f3_hal_lowlevel.s stm32f3_sysmem.s\n",
      "rm -f -- simpleserial-aes-fix.d simpleserial.d stm32f3_hal.d stm32f3_hal_lowlevel.d stm32f3_sysmem.d\n",
      "rm -f -- simpleserial-aes-fix.i simpleserial.i stm32f3_hal.i stm32f3_hal_lowlevel.i stm32f3_sysmem.i\n",
      "mkdir -p .dep\n",
      ".\n",
      "Welcome to another exciting ChipWhisperer target build!!\n",
      "arm-none-eabi-gcc (Arch Repository) 11.3.0\n",
      "Copyright (C) 2021 Free Software Foundation, Inc.\n",
      "This is free software; see the source for copying conditions.  There is NO\n",
      "warranty; not even for MERCHANTABILITY or FITNESS FOR A PARTICULAR PURPOSE.\n",
      "\n",
      "mkdir -p objdir-CWLITEARM \n",
      ".\n",
      "Compiling C: simpleserial-aes-fix.c\n",
      "arm-none-eabi-gcc -c -mcpu=cortex-m4 -I. -mthumb -mfloat-abi=soft -fmessage-length=0 -ffunction-sections -gdwarf-2 -DSS_VER=SS_VER_1_1 -DSTM32F303xC -DSTM32F3 -DSTM32 -DDEBUG -DHAL_TYPE=HAL_stm32f3 -DPLATFORM=CWLITEARM -DF_CPU=7372800UL -DSS_VER_2_0=2 -DSS_VER_2_1=3 -DSS_VER_1_1=1 -DSS_VER_1_0=0 -O3 -funsigned-char -funsigned-bitfields -fshort-enums -Wall -Wstrict-prototypes -Wa,-adhlns=objdir-CWLITEARM/simpleserial-aes-fix.lst -I.././simpleserial/ -I.././hal -I.././hal/stm32f3 -I.././hal/stm32f3/CMSIS -I.././hal/stm32f3/CMSIS/core -I.././hal/stm32f3/CMSIS/device -I.././hal/stm32f4/Legacy -std=gnu99  -MMD -MP -MF .dep/simpleserial-aes-fix.o.d simpleserial-aes-fix.c -o objdir-CWLITEARM/simpleserial-aes-fix.o\n",
      ".\n",
      "Compiling C: .././simpleserial/simpleserial.c\n",
      "arm-none-eabi-gcc -c -mcpu=cortex-m4 -I. -mthumb -mfloat-abi=soft -fmessage-length=0 -ffunction-sections -gdwarf-2 -DSS_VER=SS_VER_1_1 -DSTM32F303xC -DSTM32F3 -DSTM32 -DDEBUG -DHAL_TYPE=HAL_stm32f3 -DPLATFORM=CWLITEARM -DF_CPU=7372800UL -DSS_VER_2_0=2 -DSS_VER_2_1=3 -DSS_VER_1_1=1 -DSS_VER_1_0=0 -O3 -funsigned-char -funsigned-bitfields -fshort-enums -Wall -Wstrict-prototypes -Wa,-adhlns=objdir-CWLITEARM/simpleserial.lst -I.././simpleserial/ -I.././hal -I.././hal/stm32f3 -I.././hal/stm32f3/CMSIS -I.././hal/stm32f3/CMSIS/core -I.././hal/stm32f3/CMSIS/device -I.././hal/stm32f4/Legacy -std=gnu99  -MMD -MP -MF .dep/simpleserial.o.d .././simpleserial/simpleserial.c -o objdir-CWLITEARM/simpleserial.o\n",
      ".\n",
      "Compiling C: .././hal/stm32f3/stm32f3_hal.c\n",
      "arm-none-eabi-gcc -c -mcpu=cortex-m4 -I. -mthumb -mfloat-abi=soft -fmessage-length=0 -ffunction-sections -gdwarf-2 -DSS_VER=SS_VER_1_1 -DSTM32F303xC -DSTM32F3 -DSTM32 -DDEBUG -DHAL_TYPE=HAL_stm32f3 -DPLATFORM=CWLITEARM -DF_CPU=7372800UL -DSS_VER_2_0=2 -DSS_VER_2_1=3 -DSS_VER_1_1=1 -DSS_VER_1_0=0 -O3 -funsigned-char -funsigned-bitfields -fshort-enums -Wall -Wstrict-prototypes -Wa,-adhlns=objdir-CWLITEARM/stm32f3_hal.lst -I.././simpleserial/ -I.././hal -I.././hal/stm32f3 -I.././hal/stm32f3/CMSIS -I.././hal/stm32f3/CMSIS/core -I.././hal/stm32f3/CMSIS/device -I.././hal/stm32f4/Legacy -std=gnu99  -MMD -MP -MF .dep/stm32f3_hal.o.d .././hal/stm32f3/stm32f3_hal.c -o objdir-CWLITEARM/stm32f3_hal.o\n",
      ".\n",
      "Compiling C: .././hal/stm32f3/stm32f3_hal_lowlevel.c\n",
      "arm-none-eabi-gcc -c -mcpu=cortex-m4 -I. -mthumb -mfloat-abi=soft -fmessage-length=0 -ffunction-sections -gdwarf-2 -DSS_VER=SS_VER_1_1 -DSTM32F303xC -DSTM32F3 -DSTM32 -DDEBUG -DHAL_TYPE=HAL_stm32f3 -DPLATFORM=CWLITEARM -DF_CPU=7372800UL -DSS_VER_2_0=2 -DSS_VER_2_1=3 -DSS_VER_1_1=1 -DSS_VER_1_0=0 -O3 -funsigned-char -funsigned-bitfields -fshort-enums -Wall -Wstrict-prototypes -Wa,-adhlns=objdir-CWLITEARM/stm32f3_hal_lowlevel.lst -I.././simpleserial/ -I.././hal -I.././hal/stm32f3 -I.././hal/stm32f3/CMSIS -I.././hal/stm32f3/CMSIS/core -I.././hal/stm32f3/CMSIS/device -I.././hal/stm32f4/Legacy -std=gnu99  -MMD -MP -MF .dep/stm32f3_hal_lowlevel.o.d .././hal/stm32f3/stm32f3_hal_lowlevel.c -o objdir-CWLITEARM/stm32f3_hal_lowlevel.o\n",
      ".\n",
      "Compiling C: .././hal/stm32f3/stm32f3_sysmem.c\n",
      "arm-none-eabi-gcc -c -mcpu=cortex-m4 -I. -mthumb -mfloat-abi=soft -fmessage-length=0 -ffunction-sections -gdwarf-2 -DSS_VER=SS_VER_1_1 -DSTM32F303xC -DSTM32F3 -DSTM32 -DDEBUG -DHAL_TYPE=HAL_stm32f3 -DPLATFORM=CWLITEARM -DF_CPU=7372800UL -DSS_VER_2_0=2 -DSS_VER_2_1=3 -DSS_VER_1_1=1 -DSS_VER_1_0=0 -O3 -funsigned-char -funsigned-bitfields -fshort-enums -Wall -Wstrict-prototypes -Wa,-adhlns=objdir-CWLITEARM/stm32f3_sysmem.lst -I.././simpleserial/ -I.././hal -I.././hal/stm32f3 -I.././hal/stm32f3/CMSIS -I.././hal/stm32f3/CMSIS/core -I.././hal/stm32f3/CMSIS/device -I.././hal/stm32f4/Legacy -std=gnu99  -MMD -MP -MF .dep/stm32f3_sysmem.o.d .././hal/stm32f3/stm32f3_sysmem.c -o objdir-CWLITEARM/stm32f3_sysmem.o\n",
      ".\n",
      "Assembling: aes_encrypt.S\n",
      "arm-none-eabi-gcc -c -mcpu=cortex-m4 -I. -x assembler-with-cpp -mthumb -mfloat-abi=soft -fmessage-length=0 -ffunction-sections -DF_CPU=7372800 -Wa,-gstabs,-adhlns=objdir-CWLITEARM/aes_encrypt.lst -I.././simpleserial/ -I.././hal -I.././hal/stm32f3 -I.././hal/stm32f3/CMSIS -I.././hal/stm32f3/CMSIS/core -I.././hal/stm32f3/CMSIS/device -I.././hal/stm32f4/Legacy aes_encrypt.S -o objdir-CWLITEARM/aes_encrypt.o\n",
      ".\n",
      "Assembling: aes_keyschedule_lut.S\n",
      "arm-none-eabi-gcc -c -mcpu=cortex-m4 -I. -x assembler-with-cpp -mthumb -mfloat-abi=soft -fmessage-length=0 -ffunction-sections -DF_CPU=7372800 -Wa,-gstabs,-adhlns=objdir-CWLITEARM/aes_keyschedule_lut.lst -I.././simpleserial/ -I.././hal -I.././hal/stm32f3 -I.././hal/stm32f3/CMSIS -I.././hal/stm32f3/CMSIS/core -I.././hal/stm32f3/CMSIS/device -I.././hal/stm32f4/Legacy aes_keyschedule_lut.S -o objdir-CWLITEARM/aes_keyschedule_lut.o\n",
      ".\n",
      "Assembling: aes_keyschedule.S\n",
      "arm-none-eabi-gcc -c -mcpu=cortex-m4 -I. -x assembler-with-cpp -mthumb -mfloat-abi=soft -fmessage-length=0 -ffunction-sections -DF_CPU=7372800 -Wa,-gstabs,-adhlns=objdir-CWLITEARM/aes_keyschedule.lst -I.././simpleserial/ -I.././hal -I.././hal/stm32f3 -I.././hal/stm32f3/CMSIS -I.././hal/stm32f3/CMSIS/core -I.././hal/stm32f3/CMSIS/device -I.././hal/stm32f4/Legacy aes_keyschedule.S -o objdir-CWLITEARM/aes_keyschedule.o\n",
      ".\n",
      "Assembling: .././hal/stm32f3/stm32f3_startup.S\n",
      "arm-none-eabi-gcc -c -mcpu=cortex-m4 -I. -x assembler-with-cpp -mthumb -mfloat-abi=soft -fmessage-length=0 -ffunction-sections -DF_CPU=7372800 -Wa,-gstabs,-adhlns=objdir-CWLITEARM/stm32f3_startup.lst -I.././simpleserial/ -I.././hal -I.././hal/stm32f3 -I.././hal/stm32f3/CMSIS -I.././hal/stm32f3/CMSIS/core -I.././hal/stm32f3/CMSIS/device -I.././hal/stm32f4/Legacy .././hal/stm32f3/stm32f3_startup.S -o objdir-CWLITEARM/stm32f3_startup.o\n",
      ".\n",
      "Linking: simpleserial-aes-fix-CWLITEARM.elf\n",
      "arm-none-eabi-gcc -mcpu=cortex-m4 -I. -mthumb -mfloat-abi=soft -fmessage-length=0 -ffunction-sections -gdwarf-2 -DSS_VER=SS_VER_1_1 -DSTM32F303xC -DSTM32F3 -DSTM32 -DDEBUG -DHAL_TYPE=HAL_stm32f3 -DPLATFORM=CWLITEARM -DF_CPU=7372800UL -DSS_VER_2_0=2 -DSS_VER_2_1=3 -DSS_VER_1_1=1 -DSS_VER_1_0=0 -O3 -funsigned-char -funsigned-bitfields -fshort-enums -Wall -Wstrict-prototypes -Wa,-adhlns=objdir-CWLITEARM/simpleserial-aes-fix.o -I.././simpleserial/ -I.././hal -I.././hal/stm32f3 -I.././hal/stm32f3/CMSIS -I.././hal/stm32f3/CMSIS/core -I.././hal/stm32f3/CMSIS/device -I.././hal/stm32f4/Legacy -std=gnu99  -MMD -MP -MF .dep/simpleserial-aes-fix-CWLITEARM.elf.d objdir-CWLITEARM/simpleserial-aes-fix.o objdir-CWLITEARM/simpleserial.o objdir-CWLITEARM/stm32f3_hal.o objdir-CWLITEARM/stm32f3_hal_lowlevel.o objdir-CWLITEARM/stm32f3_sysmem.o objdir-CWLITEARM/aes_encrypt.o objdir-CWLITEARM/aes_keyschedule_lut.o objdir-CWLITEARM/aes_keyschedule.o objdir-CWLITEARM/stm32f3_startup.o --output simpleserial-aes-fix-CWLITEARM.elf --specs=nano.specs --specs=nosys.specs -T .././hal/stm32f3/LinkerScript.ld -Wl,--gc-sections -lm -Wl,-Map=simpleserial-aes-fix-CWLITEARM.map,--cref   -lm  \n",
      ".\n",
      "Creating load file for Flash: simpleserial-aes-fix-CWLITEARM.hex\n",
      "arm-none-eabi-objcopy -O ihex -R .eeprom -R .fuse -R .lock -R .signature simpleserial-aes-fix-CWLITEARM.elf simpleserial-aes-fix-CWLITEARM.hex\n",
      ".\n",
      "Creating load file for EEPROM: simpleserial-aes-fix-CWLITEARM.eep\n",
      "arm-none-eabi-objcopy -j .eeprom --set-section-flags=.eeprom=\"alloc,load\" \\\n"
     ]
    },
    {
     "name": "stdout",
     "output_type": "stream",
     "text": [
      "--change-section-lma .eeprom=0 --no-change-warnings -O ihex simpleserial-aes-fix-CWLITEARM.elf simpleserial-aes-fix-CWLITEARM.eep || exit 0\n",
      ".\n",
      "Creating Extended Listing: simpleserial-aes-fix-CWLITEARM.lss\n",
      "arm-none-eabi-objdump -h -S -z simpleserial-aes-fix-CWLITEARM.elf > simpleserial-aes-fix-CWLITEARM.lss\n",
      ".\n",
      "Creating Symbol Table: simpleserial-aes-fix-CWLITEARM.sym\n",
      "arm-none-eabi-nm -n simpleserial-aes-fix-CWLITEARM.elf > simpleserial-aes-fix-CWLITEARM.sym\n",
      "Size after:\n",
      "   text\t   data\t    bss\t    dec\t    hex\tfilename\n",
      "  12568\t      8\t   1784\t  14360\t   3818\tsimpleserial-aes-fix-CWLITEARM.elf\n",
      "+--------------------------------------------------------\n",
      "+ Default target does full rebuild each time.\n",
      "+ Specify buildtarget == allquick == to avoid full rebuild\n",
      "+--------------------------------------------------------\n",
      "+--------------------------------------------------------\n",
      "+ Built for platform CW-Lite Arm \\(STM32F3\\) with:\n",
      "+ CRYPTO_TARGET = NONE\n",
      "+ CRYPTO_OPTIONS = \n",
      "+--------------------------------------------------------\n"
     ]
    }
   ],
   "source": [
    "%%bash -s \"$PLATFORM\" \"$CRYPTO_TARGET\" \"$FIRMWARE_PATH\"\n",
    "cd $3\n",
    "make PLATFORM=$1 CRYPTO_TARGET=$2"
   ]
  },
  {
   "cell_type": "code",
   "execution_count": 11,
   "metadata": {},
   "outputs": [
    {
     "name": "stderr",
     "output_type": "stream",
     "text": [
      "WARNING:ChipWhisperer Other:ChipWhisperer update available! See https://chipwhisperer.readthedocs.io/en/latest/installing.html for updating instructions\n",
      "WARNING:ChipWhisperer NAEUSB:Your firmware is outdated - latest is 0.52. Suggested to update firmware, as you may experience errors\n",
      "See https://chipwhisperer.readthedocs.io/en/latest/api.html#firmware-update\n"
     ]
    },
    {
     "name": "stdout",
     "output_type": "stream",
     "text": [
      "Detected known STMF32: STM32F302xB(C)/303xB(C)\n",
      "Extended erase (0x44), this can take ten seconds or more\n",
      "Attempting to program 12575 bytes at 0x8000000\n",
      "STM32F Programming flash...\n",
      "STM32F Reading flash...\n",
      "Verified flash OK, 12575 bytes\n"
     ]
    }
   ],
   "source": [
    "%matplotlib inline\n",
    "import matplotlib.pyplot as plt\n",
    "import chipwhisperer as cw\n",
    "scope = cw.scope()\n",
    "target = cw.target(scope, cw.targets.SimpleSerial)\n",
    "scope.default_setup()\n",
    "if \"STM\" in PLATFORM or PLATFORM == \"CWLITEARM\" or PLATFORM == \"CWNANO\":\n",
    "    prog = cw.programmers.STM32FProgrammer\n",
    "elif PLATFORM == \"CW303\" or PLATFORM == \"CWLITEXMEGA\":\n",
    "    prog = cw.programmers.XMEGAProgrammer\n",
    "else:\n",
    "    prog = None\n",
    "\n",
    "fw_path = '{}/simpleserial-aes-fix-{}.hex'.format(FIRMWARE_PATH, PLATFORM)\n",
    "cw.program_target(scope, prog, fw_path)\n",
    "target.output_len = 32"
   ]
  },
  {
   "cell_type": "code",
   "execution_count": 13,
   "metadata": {},
   "outputs": [],
   "source": [
    "scope.dis()\n",
    "target.dis()"
   ]
  },
  {
   "cell_type": "markdown",
   "metadata": {},
   "source": [
    "#  Test"
   ]
  },
  {
   "cell_type": "code",
   "execution_count": 12,
   "metadata": {},
   "outputs": [
    {
     "name": "stdout",
     "output_type": "stream",
     "text": [
      "Success\n"
     ]
    }
   ],
   "source": [
    "from binascii import hexlify\n",
    "from chipwhisperer.common.utils.util import hexStrToByteArray\n",
    "\n",
    "target.simpleserial_write('k', hexStrToByteArray(\"00000000000000000000000000000000\"))\n",
    "target.simpleserial_wait_ack()\n",
    "\n",
    "target.simpleserial_write('p', hexStrToByteArray(\"f34481ec3cc627bacd5dc3fb08f273e6\")*2)\n",
    "res = target.simpleserial_read('r', 32)\n",
    "assert(res[:16] == hexStrToByteArray(\"0336763e966d92595a567cc9ce537f5e\"))\n",
    "assert(res[16:] == hexStrToByteArray(\"0336763e966d92595a567cc9ce537f5e\"))\n",
    "\n",
    "print(\"Success\")"
   ]
  },
  {
   "cell_type": "markdown",
   "metadata": {},
   "source": [
    "# Unprofiled\n",
    "## Constant P2"
   ]
  },
  {
   "cell_type": "code",
   "execution_count": 6,
   "metadata": {},
   "outputs": [
    {
     "name": "stdout",
     "output_type": "stream",
     "text": [
      "traces/2b7e151628aed2a6abf7158809cf4f3c-fix-500000.csv\n"
     ]
    },
    {
     "name": "stderr",
     "output_type": "stream",
     "text": [
      "/tmp/ipykernel_46717/83265468.py:22: TqdmDeprecationWarning: Please use `tqdm.notebook.trange` instead of `tqdm.tnrange`\n",
      "  for i in tnrange(num_traces, desc='Capturing traces'):\n"
     ]
    },
    {
     "data": {
      "application/vnd.jupyter.widget-view+json": {
       "model_id": "5ecdcfe2db914d37a1efaed769b59a0c",
       "version_major": 2,
       "version_minor": 0
      },
      "text/plain": [
       "Capturing traces:   0%|          | 0/500000 [00:00<?, ?it/s]"
      ]
     },
     "metadata": {},
     "output_type": "display_data"
    }
   ],
   "source": [
    "from tqdm import tnrange\n",
    "import numpy as np\n",
    "import time\n",
    "import csv\n",
    "\n",
    "\n",
    "num_traces =  500000\n",
    "\n",
    "ktp = cw.ktp.Basic()\n",
    "key = ktp.next_key()\n",
    "const = hexStrToByteArray(\"00000000000000000000000000000000\")\n",
    "\n",
    "textk = hexlify(key)\n",
    "textk = textk.decode(\"utf-8\")\n",
    "\n",
    "OUTPUT_PATH = f\"traces/{textk}-fix-{num_traces}.csv\"\n",
    "print(OUTPUT_PATH)\n",
    "\n",
    "with open(OUTPUT_PATH, 'a') as f:\n",
    "    fields = ['plaintext', 'ciphertext', 'trace']\n",
    "    writer = csv.DictWriter(f, fieldnames=fields,delimiter=';')\n",
    "    for i in tnrange(num_traces, desc='Capturing traces'):\n",
    "        pt = ktp.next_text()\n",
    "        trace = cw.capture_trace(scope, target, pt+const, key=key)\n",
    "        if trace is None:\n",
    "            continue\n",
    "        textpt = hexlify(trace.textin)\n",
    "        textpt = textpt.decode(\"utf-8\")\n",
    "        textct = hexlify(trace.textout)\n",
    "        textct = textct.decode(\"utf-8\")\n",
    "        writer.writerow({\"plaintext\":textpt,\"ciphertext\":textct,\"trace\":','.join([str(_) for _ in trace.wave])})"
   ]
  },
  {
   "cell_type": "markdown",
   "metadata": {},
   "source": [
    "## P1 and P2 random"
   ]
  },
  {
   "cell_type": "code",
   "execution_count": 7,
   "metadata": {},
   "outputs": [
    {
     "name": "stdout",
     "output_type": "stream",
     "text": [
      "traces/2b7e151628aed2a6abf7158809cf4f3c-fix-500000-diff.csv\n"
     ]
    },
    {
     "name": "stderr",
     "output_type": "stream",
     "text": [
      "/tmp/ipykernel_46717/375575880.py:21: TqdmDeprecationWarning: Please use `tqdm.notebook.trange` instead of `tqdm.tnrange`\n",
      "  for i in tnrange(num_traces, desc='Capturing traces'):\n"
     ]
    },
    {
     "data": {
      "application/vnd.jupyter.widget-view+json": {
       "model_id": "4eee651f7b5f4d49b318de3e8082e32e",
       "version_major": 2,
       "version_minor": 0
      },
      "text/plain": [
       "Capturing traces:   0%|          | 0/500000 [00:00<?, ?it/s]"
      ]
     },
     "metadata": {},
     "output_type": "display_data"
    }
   ],
   "source": [
    "from tqdm import tnrange\n",
    "import numpy as np\n",
    "import time\n",
    "import csv\n",
    "\n",
    "\n",
    "num_traces =  500000\n",
    "\n",
    "ktp = cw.ktp.Basic()\n",
    "key = ktp.next_key()\n",
    "\n",
    "textk = hexlify(key)\n",
    "textk = textk.decode(\"utf-8\")\n",
    "\n",
    "OUTPUT_PATH = f\"traces/{textk}-fix-{num_traces}-diff.csv\"\n",
    "print(OUTPUT_PATH)\n",
    "\n",
    "with open(OUTPUT_PATH, 'a') as f:\n",
    "    fields = ['plaintext', 'ciphertext', 'trace']\n",
    "    writer = csv.DictWriter(f, fieldnames=fields,delimiter=';')\n",
    "    for i in tnrange(num_traces, desc='Capturing traces'):\n",
    "        pt = ktp.next_text()\n",
    "        pt2 = ktp.next_text()\n",
    "        trace = cw.capture_trace(scope, target, pt+pt2, key=key)\n",
    "        if trace is None:\n",
    "            continue\n",
    "        textpt = hexlify(trace.textin)\n",
    "        textpt = textpt.decode(\"utf-8\")\n",
    "        textct = hexlify(trace.textout)\n",
    "        textct = textct.decode(\"utf-8\")\n",
    "        writer.writerow({\"plaintext\":textpt,\"ciphertext\":textct, \"trace\":','.join([str(_) for _ in trace.wave])})        "
   ]
  },
  {
   "cell_type": "markdown",
   "metadata": {},
   "source": [
    "## P1 equals P2"
   ]
  },
  {
   "cell_type": "code",
   "execution_count": 10,
   "metadata": {},
   "outputs": [
    {
     "name": "stdout",
     "output_type": "stream",
     "text": [
      "traces/2b7e151628aed2a6abf7158809cf4f3c-fix-500000-equal.csv\n"
     ]
    },
    {
     "name": "stderr",
     "output_type": "stream",
     "text": [
      "/tmp/ipykernel_46717/962950979.py:21: TqdmDeprecationWarning: Please use `tqdm.notebook.trange` instead of `tqdm.tnrange`\n",
      "  for i in tnrange(num_traces, desc='Capturing traces'):\n"
     ]
    },
    {
     "data": {
      "application/vnd.jupyter.widget-view+json": {
       "model_id": "e25b444249b54d7094ce640a76df28d9",
       "version_major": 2,
       "version_minor": 0
      },
      "text/plain": [
       "Capturing traces:   0%|          | 0/500000 [00:00<?, ?it/s]"
      ]
     },
     "metadata": {},
     "output_type": "display_data"
    }
   ],
   "source": [
    "from tqdm import tnrange\n",
    "import numpy as np\n",
    "import time\n",
    "import csv\n",
    "\n",
    "\n",
    "num_traces = 500000\n",
    "\n",
    "ktp = cw.ktp.Basic()\n",
    "key = ktp.next_key()\n",
    "\n",
    "textk = hexlify(key)\n",
    "textk = textk.decode(\"utf-8\")\n",
    "\n",
    "OUTPUT_PATH = f\"traces/{textk}-fix-{num_traces}-equal.csv\"\n",
    "print(OUTPUT_PATH)\n",
    "\n",
    "with open(OUTPUT_PATH, 'a') as f:\n",
    "    fields = ['plaintext', 'ciphertext', 'trace']\n",
    "    writer = csv.DictWriter(f, fieldnames=fields,delimiter=';')\n",
    "    for i in tnrange(num_traces, desc='Capturing traces'):\n",
    "        pt = ktp.next_text()\n",
    "        trace = cw.capture_trace(scope, target, pt+pt, key=key)\n",
    "        if trace is None:\n",
    "            continue\n",
    "        textpt = hexlify(trace.textin)\n",
    "        textpt = textpt.decode(\"utf-8\")\n",
    "        textct = hexlify(trace.textout)\n",
    "        textct = textct.decode(\"utf-8\")\n",
    "        writer.writerow({\"plaintext\":textpt,\"ciphertext\":textct, \"trace\":','.join([str(_) for _ in trace.wave])})        "
   ]
  },
  {
   "cell_type": "markdown",
   "metadata": {},
   "source": [
    "# Profiled"
   ]
  },
  {
   "cell_type": "code",
   "execution_count": 13,
   "metadata": {},
   "outputs": [
    {
     "name": "stderr",
     "output_type": "stream",
     "text": [
      "/tmp/ipykernel_1615/130577763.py:15: TqdmDeprecationWarning: Please use `tqdm.notebook.trange` instead of `tqdm.tnrange`\n",
      "  for i in tnrange(num_traces, desc='Capturing traces'):\n"
     ]
    },
    {
     "data": {
      "application/vnd.jupyter.widget-view+json": {
       "model_id": "cadb2edd6b874d71b0dfbc83f3990c8b",
       "version_major": 2,
       "version_minor": 0
      },
      "text/plain": [
       "Capturing traces:   0%|          | 0/50000 [00:00<?, ?it/s]"
      ]
     },
     "metadata": {},
     "output_type": "display_data"
    },
    {
     "name": "stdout",
     "output_type": "stream",
     "text": [
      "traces/e4e6607fa0c944819d01672f10f2fc99-profile-fix.csv\n"
     ]
    }
   ],
   "source": [
    "from tqdm import tnrange\n",
    "import numpy as np\n",
    "import time\n",
    "import csv\n",
    "\n",
    "\n",
    "traces = []\n",
    "num_traces =  50000\n",
    "\n",
    "ktp = cw.ktp.Basic()\n",
    "ktp.fixed_key = False\n",
    "\n",
    "k1 = ktp.next_text()\n",
    "\n",
    "const = hexStrToByteArray(\"00000000000000000000000000000000\")\n",
    "\n",
    "for i in tnrange(num_traces, desc='Capturing traces'):\n",
    "    pt = ktp.next_text()\n",
    "    key = ktp.next_key()\n",
    "    trace = cw.capture_trace(scope, target, pt+const, key=key)\n",
    "    if trace is None:\n",
    "        continue\n",
    "    traces.append(trace)\n",
    "\n",
    "textk1 = hexlify(k1)\n",
    "textk1 = textk1.decode(\"utf-8\")\n",
    "\n",
    "OUTPUT_PATH = f\"traces/{textk1}-profile-fix-{num_traces}.csv\"\n",
    "print(OUTPUT_PATH)\n",
    "\n",
    "f = open(OUTPUT_PATH, 'a')\n",
    "with f:\n",
    "    fields = ['key', 'plaintext', 'ciphertext', 'trace']\n",
    "    writer = csv.DictWriter(f, fieldnames=fields,delimiter=';')\n",
    "    for trace in traces:\n",
    "        textkey = hexlify(trace.key)\n",
    "        textkey = textkey.decode(\"utf-8\")\n",
    "        textpt = hexlify(trace.textin)\n",
    "        textpt = textpt.decode(\"utf-8\")\n",
    "        textct = hexlify(trace.textout)\n",
    "        textct = textct.decode(\"utf-8\")\n",
    "        writer.writerow({\"key\":textkey,\"plaintext\":textpt,\"ciphertext\":textct,\"trace\":','.join([str(_) for _ in trace.wave])})"
   ]
  },
  {
   "cell_type": "markdown",
   "metadata": {},
   "source": [
    "# Speed"
   ]
  },
  {
   "cell_type": "code",
   "execution_count": 10,
   "metadata": {},
   "outputs": [
    {
     "name": "stdout",
     "output_type": "stream",
     "text": [
      "2708\n"
     ]
    }
   ],
   "source": [
    "from binascii import hexlify\n",
    "from chipwhisperer.common.utils.util import hexStrToByteArray\n",
    "\n",
    "target.simpleserial_write('k', hexStrToByteArray(\"00000000000000000000000000000000\"))\n",
    "target.simpleserial_wait_ack()\n",
    "\n",
    "target.simpleserial_write('c', hexStrToByteArray(\"f34481ec3cc627bacd5dc3fb08f273e6\"))\n",
    "print(int.from_bytes(target.simpleserial_read('r', 4), byteorder='little'))"
   ]
  },
  {
   "cell_type": "code",
   "execution_count": 11,
   "metadata": {},
   "outputs": [
    {
     "name": "stderr",
     "output_type": "stream",
     "text": [
      "/tmp/ipykernel_1615/2231837125.py:12: TqdmDeprecationWarning: Please use `tqdm.notebook.trange` instead of `tqdm.tnrange`\n",
      "  for i in tnrange(num_traces, desc='Capturing traces'):\n"
     ]
    },
    {
     "data": {
      "application/vnd.jupyter.widget-view+json": {
       "model_id": "9a27836f09ea4be6ba0f1e0c49617145",
       "version_major": 2,
       "version_minor": 0
      },
      "text/plain": [
       "Capturing traces:   0%|          | 0/1000 [00:00<?, ?it/s]"
      ]
     },
     "metadata": {},
     "output_type": "display_data"
    },
    {
     "name": "stdout",
     "output_type": "stream",
     "text": [
      "2708.0\n"
     ]
    }
   ],
   "source": [
    "from tqdm import tnrange\n",
    "import numpy as np\n",
    "import time\n",
    "import csv\n",
    "\n",
    "counts = []\n",
    "num_traces =  1000\n",
    "\n",
    "ktp = cw.ktp.Basic()\n",
    "ktp.fixed_key = False\n",
    "\n",
    "for i in tnrange(num_traces, desc='Capturing traces'):\n",
    "    target.simpleserial_write('k', ktp.next_key())\n",
    "    target.simpleserial_wait_ack()\n",
    "    target.simpleserial_write('c', ktp.next_text())\n",
    "    counts.append(int.from_bytes(target.simpleserial_read('r', 4), byteorder='little'))\n",
    "\n",
    "print(sum(counts)/len(counts))"
   ]
  }
 ],
 "metadata": {
  "kernelspec": {
   "display_name": "Python 3 (ipykernel)",
   "language": "python",
   "name": "python3"
  },
  "language_info": {
   "codemirror_mode": {
    "name": "ipython",
    "version": 3
   },
   "file_extension": ".py",
   "mimetype": "text/x-python",
   "name": "python",
   "nbconvert_exporter": "python",
   "pygments_lexer": "ipython3",
   "version": "3.10.4"
  }
 },
 "nbformat": 4,
 "nbformat_minor": 4
}
